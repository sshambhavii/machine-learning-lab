{
 "cells": [
  {
   "cell_type": "code",
   "execution_count": 3,
   "id": "1b35f44a",
   "metadata": {},
   "outputs": [],
   "source": [
    "import pandas as pd \n",
    "import numpy as np\n",
    "import math\n",
    "from scipy import stats"
   ]
  },
  {
   "cell_type": "code",
   "execution_count": 4,
   "id": "e41abb31",
   "metadata": {},
   "outputs": [
    {
     "data": {
      "text/plain": [
       "0.4526588403106562"
      ]
     },
     "execution_count": 4,
     "metadata": {},
     "output_type": "execute_result"
    }
   ],
   "source": [
    "#Question 2\n",
    "1-stats.binom.cdf(3,8,.42)"
   ]
  },
  {
   "cell_type": "code",
   "execution_count": 5,
   "id": "f9f541c0",
   "metadata": {},
   "outputs": [
    {
     "data": {
      "text/plain": [
       "0.2464944673605121"
      ]
     },
     "execution_count": 5,
     "metadata": {},
     "output_type": "execute_result"
    }
   ],
   "source": [
    "stats.binom.pmf(4,8,.42)"
   ]
  },
  {
   "cell_type": "code",
   "execution_count": 6,
   "id": "5abd4798",
   "metadata": {},
   "outputs": [
    {
     "data": {
      "text/plain": [
       "0.008197535924596155"
      ]
     },
     "execution_count": 6,
     "metadata": {},
     "output_type": "execute_result"
    }
   ],
   "source": [
    "#Question 4\n",
    "1-stats.norm.cdf(50,loc=38,scale=5)"
   ]
  },
  {
   "cell_type": "code",
   "execution_count": 7,
   "id": "17dc1f0c",
   "metadata": {},
   "outputs": [
    {
     "data": {
      "text/plain": [
       "1.0717590258310887e-08"
      ]
     },
     "execution_count": 7,
     "metadata": {},
     "output_type": "execute_result"
    }
   ],
   "source": [
    "stats.norm.cdf(10,loc=38,scale=5)"
   ]
  },
  {
   "cell_type": "code",
   "execution_count": 8,
   "id": "84c2598b",
   "metadata": {},
   "outputs": [
    {
     "data": {
      "text/plain": [
       "0.9451952957565343"
      ]
     },
     "execution_count": 8,
     "metadata": {},
     "output_type": "execute_result"
    }
   ],
   "source": [
    "stats.norm.cdf(60,38,5)-stats.norm.cdf(30,38,5)"
   ]
  },
  {
   "cell_type": "code",
   "execution_count": 51,
   "id": "cc479d0a",
   "metadata": {},
   "outputs": [
    {
     "name": "stdout",
     "output_type": "stream",
     "text": [
      "22.0\n"
     ]
    },
    {
     "data": {
      "text/plain": [
       "TtestResult(statistic=7.290817913679969, pvalue=1.2071796903914925e-10, df=89)"
      ]
     },
     "execution_count": 51,
     "metadata": {},
     "output_type": "execute_result"
    }
   ],
   "source": [
    "#Question 6\n",
    "fabric_dataset=[19, 21, 23, 20, 22, 24, 18, 21, 23, 19,\n",
    " 21, 23, 20, 22, 24, 18, 21, 23, 19, 21,\n",
    " 23, 20, 22, 27, 18, 21, 23, 19, 21, 27,\n",
    " 24, 52, 24, 48, 21, 23, 19, 21, 43, 20,\n",
    " 22, 44, 18, 21, 23, 19, 41, 23, 40, 22,\n",
    " 24, 18, 21, 42, 19, 21, 23, 20, 22, 24,\n",
    " 18, 21, 23, 19, 21, 31, 20, 22, 30, 58,\n",
    " 21, 23, 19, 21, 23, 20, 22, 24, 18, 32,\n",
    " 51, 44, 21, 23, 20, 22, 24, 20, 21, 23]\n",
    "\n",
    "print(sum(fabric_dataset)/100)\n",
    "\n",
    "stats.ttest_1samp(fabric_dataset,18)"
   ]
  },
  {
   "cell_type": "code",
   "execution_count": 35,
   "id": "a3bf5697",
   "metadata": {},
   "outputs": [
    {
     "data": {
      "text/html": [
       "<div>\n",
       "<style scoped>\n",
       "    .dataframe tbody tr th:only-of-type {\n",
       "        vertical-align: middle;\n",
       "    }\n",
       "\n",
       "    .dataframe tbody tr th {\n",
       "        vertical-align: top;\n",
       "    }\n",
       "\n",
       "    .dataframe thead th {\n",
       "        text-align: right;\n",
       "    }\n",
       "</style>\n",
       "<table border=\"1\" class=\"dataframe\">\n",
       "  <thead>\n",
       "    <tr style=\"text-align: right;\">\n",
       "      <th></th>\n",
       "      <th>Score Before Training</th>\n",
       "      <th>Score After Training</th>\n",
       "    </tr>\n",
       "    <tr>\n",
       "      <th>Student</th>\n",
       "      <th></th>\n",
       "      <th></th>\n",
       "    </tr>\n",
       "  </thead>\n",
       "  <tbody>\n",
       "    <tr>\n",
       "      <th>1</th>\n",
       "      <td>30</td>\n",
       "      <td>77</td>\n",
       "    </tr>\n",
       "    <tr>\n",
       "      <th>2</th>\n",
       "      <td>57</td>\n",
       "      <td>79</td>\n",
       "    </tr>\n",
       "    <tr>\n",
       "      <th>3</th>\n",
       "      <td>97</td>\n",
       "      <td>46</td>\n",
       "    </tr>\n",
       "    <tr>\n",
       "      <th>4</th>\n",
       "      <td>94</td>\n",
       "      <td>44</td>\n",
       "    </tr>\n",
       "    <tr>\n",
       "      <th>5</th>\n",
       "      <td>WC</td>\n",
       "      <td>89</td>\n",
       "    </tr>\n",
       "  </tbody>\n",
       "</table>\n",
       "</div>"
      ],
      "text/plain": [
       "        Score Before Training  Score After Training\n",
       "Student                                            \n",
       "1                          30                    77\n",
       "2                          57                    79\n",
       "3                          97                    46\n",
       "4                          94                    44\n",
       "5                          WC                    89"
      ]
     },
     "execution_count": 35,
     "metadata": {},
     "output_type": "execute_result"
    }
   ],
   "source": [
    "#Question 8\n",
    "df=pd.read_csv('trainingscores.csv',index_col='Student')\n",
    "df.head()"
   ]
  },
  {
   "cell_type": "code",
   "execution_count": 11,
   "id": "248580f9",
   "metadata": {},
   "outputs": [
    {
     "name": "stdout",
     "output_type": "stream",
     "text": [
      "<class 'pandas.core.frame.DataFrame'>\n",
      "Int64Index: 30 entries, 1 to 30\n",
      "Data columns (total 2 columns):\n",
      " #   Column                 Non-Null Count  Dtype \n",
      "---  ------                 --------------  ----- \n",
      " 0   Score Before Training  30 non-null     object\n",
      " 1   Score After Training   30 non-null     int64 \n",
      "dtypes: int64(1), object(1)\n",
      "memory usage: 720.0+ bytes\n"
     ]
    }
   ],
   "source": [
    "df.info()"
   ]
  },
  {
   "cell_type": "code",
   "execution_count": 12,
   "id": "4a579d6f",
   "metadata": {},
   "outputs": [],
   "source": [
    "df.drop(df[df['Score Before Training']=='WC'].index,axis=0,inplace=True)"
   ]
  },
  {
   "cell_type": "code",
   "execution_count": 14,
   "id": "5e02ef4d",
   "metadata": {},
   "outputs": [
    {
     "name": "stdout",
     "output_type": "stream",
     "text": [
      "<class 'pandas.core.frame.DataFrame'>\n",
      "Int64Index: 29 entries, 1 to 30\n",
      "Data columns (total 2 columns):\n",
      " #   Column                 Non-Null Count  Dtype\n",
      "---  ------                 --------------  -----\n",
      " 0   Score Before Training  29 non-null     int64\n",
      " 1   Score After Training   29 non-null     int64\n",
      "dtypes: int64(2)\n",
      "memory usage: 696.0 bytes\n"
     ]
    }
   ],
   "source": [
    "df.info()"
   ]
  },
  {
   "cell_type": "code",
   "execution_count": 16,
   "id": "179ecb0a",
   "metadata": {},
   "outputs": [
    {
     "data": {
      "text/plain": [
       "TtestResult(statistic=-1.7364326497851257, pvalue=0.09347987807999415, df=28)"
      ]
     },
     "execution_count": 16,
     "metadata": {},
     "output_type": "execute_result"
    }
   ],
   "source": [
    "#Paired Sample t-test\n",
    "stats.ttest_rel(df['Score Before Training'],df['Score After Training'])"
   ]
  },
  {
   "cell_type": "code",
   "execution_count": 55,
   "id": "8aa79fba",
   "metadata": {},
   "outputs": [
    {
     "name": "stdout",
     "output_type": "stream",
     "text": [
      "7.532224297300853e-37\n",
      "3.928315748492499e-24\n",
      "5.469878503996061e-17\n",
      "1.2001519105284406e-12\n",
      "7.506144504985082e-10\n",
      "5.8165292946033945e-08\n",
      "1.2406980065204744e-06\n",
      "1.1511028863573263e-05\n"
     ]
    }
   ],
   "source": [
    "#p values for random standard deviations\n",
    "for x in range(2,10):\n",
    "    print(stats.t.sf(abs(((22-18)*10)/x),df=99))"
   ]
  },
  {
   "cell_type": "code",
   "execution_count": null,
   "id": "1793fcf5",
   "metadata": {},
   "outputs": [],
   "source": []
  }
 ],
 "metadata": {
  "kernelspec": {
   "display_name": "Python 3 (ipykernel)",
   "language": "python",
   "name": "python3"
  },
  "language_info": {
   "codemirror_mode": {
    "name": "ipython",
    "version": 3
   },
   "file_extension": ".py",
   "mimetype": "text/x-python",
   "name": "python",
   "nbconvert_exporter": "python",
   "pygments_lexer": "ipython3",
   "version": "3.11.3"
  }
 },
 "nbformat": 4,
 "nbformat_minor": 5
}
