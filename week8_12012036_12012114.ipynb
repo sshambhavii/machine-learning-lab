{
 "cells": [
  {
   "cell_type": "code",
   "execution_count": 66,
   "id": "576b4417",
   "metadata": {},
   "outputs": [
    {
     "name": "stdout",
     "output_type": "stream",
     "text": [
      "<class 'pandas.core.frame.DataFrame'>\n",
      "RangeIndex: 748 entries, 0 to 747\n",
      "Data columns (total 5 columns):\n",
      " #   Column  Non-Null Count  Dtype\n",
      "---  ------  --------------  -----\n",
      " 0   class   748 non-null    int64\n",
      " 1   F1      748 non-null    int64\n",
      " 2   F2      748 non-null    int64\n",
      " 3   F3      748 non-null    int64\n",
      " 4   F4      748 non-null    int64\n",
      "dtypes: int64(5)\n",
      "memory usage: 29.3 KB\n"
     ]
    }
   ],
   "source": [
    "import pandas as pd\n",
    "import numpy as np\n",
    "import statsmodels.api as sm\n",
    "import seaborn as sn\n",
    "from sklearn.model_selection import train_test_split\n",
    "import matplotlib.pyplot as plt\n",
    "df = pd.read_csv('Blood.csv')\n",
    "df.info()"
   ]
  },
  {
   "cell_type": "code",
   "execution_count": 69,
   "id": "50c6bc08",
   "metadata": {},
   "outputs": [
    {
     "name": "stdout",
     "output_type": "stream",
     "text": [
      "Optimization terminated successfully.\n",
      "         Current function value: 0.470528\n",
      "         Iterations 15\n"
     ]
    },
    {
     "data": {
      "text/html": [
       "<table class=\"simpletable\">\n",
       "<tr>\n",
       "        <td>Model:</td>              <td>Logit</td>      <td>Pseudo R-squared:</td>    <td>0.139</td>  \n",
       "</tr>\n",
       "<tr>\n",
       "  <td>Dependent Variable:</td>       <td>class</td>            <td>AIC:</td>         <td>572.7517</td> \n",
       "</tr>\n",
       "<tr>\n",
       "         <td>Date:</td>        <td>2023-09-27 16:16</td>       <td>BIC:</td>         <td>594.7196</td> \n",
       "</tr>\n",
       "<tr>\n",
       "   <td>No. Observations:</td>         <td>598</td>        <td>Log-Likelihood:</td>    <td>-281.38</td> \n",
       "</tr>\n",
       "<tr>\n",
       "       <td>Df Model:</td>              <td>4</td>            <td>LL-Null:</td>        <td>-326.61</td> \n",
       "</tr>\n",
       "<tr>\n",
       "     <td>Df Residuals:</td>           <td>593</td>         <td>LLR p-value:</td>    <td>1.0453e-18</td>\n",
       "</tr>\n",
       "<tr>\n",
       "      <td>Converged:</td>           <td>1.0000</td>           <td>Scale:</td>         <td>1.0000</td>  \n",
       "</tr>\n",
       "<tr>\n",
       "    <td>No. Iterations:</td>        <td>15.0000</td>             <td></td>               <td></td>     \n",
       "</tr>\n",
       "</table>\n",
       "<table class=\"simpletable\">\n",
       "<tr>\n",
       "    <td></td>     <th>Coef.</th>   <th>Std.Err.</th>      <th>z</th>     <th>P>|z|</th>    <th>[0.025</th>      <th>0.975]</th>   \n",
       "</tr>\n",
       "<tr>\n",
       "  <th>const</th> <td>-0.4559</td>   <td>0.2008</td>    <td>-2.2709</td> <td>0.0232</td>    <td>-0.8494</td>     <td>-0.0624</td>  \n",
       "</tr>\n",
       "<tr>\n",
       "  <th>F1</th>    <td>-0.0988</td>   <td>0.0192</td>    <td>-5.1330</td> <td>0.0000</td>    <td>-0.1365</td>     <td>-0.0611</td>  \n",
       "</tr>\n",
       "<tr>\n",
       "  <th>F2</th>    <td>0.0000</td>  <td>463554.9724</td> <td>0.0000</td>  <td>1.0000</td> <td>-908551.0507</td> <td>908551.0507</td>\n",
       "</tr>\n",
       "<tr>\n",
       "  <th>F3</th>    <td>0.0005</td>   <td>1854.2199</td>  <td>0.0000</td>  <td>1.0000</td>  <td>-3634.2037</td>   <td>3634.2047</td> \n",
       "</tr>\n",
       "<tr>\n",
       "  <th>F4</th>    <td>-0.0232</td>   <td>0.0066</td>    <td>-3.5269</td> <td>0.0004</td>    <td>-0.0361</td>     <td>-0.0103</td>  \n",
       "</tr>\n",
       "</table>"
      ],
      "text/plain": [
       "<class 'statsmodels.iolib.summary2.Summary'>\n",
       "\"\"\"\n",
       "                         Results: Logit\n",
       "=================================================================\n",
       "Model:              Logit            Pseudo R-squared: 0.139     \n",
       "Dependent Variable: class            AIC:              572.7517  \n",
       "Date:               2023-09-27 16:16 BIC:              594.7196  \n",
       "No. Observations:   598              Log-Likelihood:   -281.38   \n",
       "Df Model:           4                LL-Null:          -326.61   \n",
       "Df Residuals:       593              LLR p-value:      1.0453e-18\n",
       "Converged:          1.0000           Scale:            1.0000    \n",
       "No. Iterations:     15.0000                                      \n",
       "-----------------------------------------------------------------\n",
       "       Coef.    Std.Err.     z    P>|z|     [0.025       0.975]  \n",
       "-----------------------------------------------------------------\n",
       "const -0.4559      0.2008 -2.2709 0.0232      -0.8494     -0.0624\n",
       "F1    -0.0988      0.0192 -5.1330 0.0000      -0.1365     -0.0611\n",
       "F2     0.0000 463554.9724  0.0000 1.0000 -908551.0507 908551.0507\n",
       "F3     0.0005   1854.2199  0.0000 1.0000   -3634.2037   3634.2047\n",
       "F4    -0.0232      0.0066 -3.5269 0.0004      -0.0361     -0.0103\n",
       "=================================================================\n",
       "\n",
       "\"\"\""
      ]
     },
     "execution_count": 69,
     "metadata": {},
     "output_type": "execute_result"
    }
   ],
   "source": [
    "# Q1. model for prediction\n",
    "X_features = df[['F1', 'F2', 'F3', 'F4']]\n",
    "Y_features = df['class']\n",
    "X = sm.add_constant(X)\n",
    "Y = Y_features\n",
    "\n",
    "train_X, test_X, train_Y, test_Y = train_test_split(X,Y,train_size=0.8, random_state=42) \n",
    "logit_model = sm.Logit(train_Y, train_X)\n",
    "logit_model = logit_model.fit()\n",
    "logit_model.summary2()"
   ]
  },
  {
   "cell_type": "code",
   "execution_count": 76,
   "id": "c5c92543",
   "metadata": {},
   "outputs": [
    {
     "name": "stdout",
     "output_type": "stream",
     "text": [
      "Optimization terminated successfully.\n",
      "         Current function value: 0.495096\n",
      "         Iterations 6\n"
     ]
    },
    {
     "data": {
      "text/html": [
       "<table class=\"simpletable\">\n",
       "<tr>\n",
       "        <td>Model:</td>              <td>Logit</td>      <td>Pseudo R-squared:</td>    <td>0.094</td>  \n",
       "</tr>\n",
       "<tr>\n",
       "  <td>Dependent Variable:</td>       <td>class</td>            <td>AIC:</td>         <td>598.1347</td> \n",
       "</tr>\n",
       "<tr>\n",
       "         <td>Date:</td>        <td>2023-09-27 16:21</td>       <td>BIC:</td>         <td>611.3154</td> \n",
       "</tr>\n",
       "<tr>\n",
       "   <td>No. Observations:</td>         <td>598</td>        <td>Log-Likelihood:</td>    <td>-296.07</td> \n",
       "</tr>\n",
       "<tr>\n",
       "       <td>Df Model:</td>              <td>2</td>            <td>LL-Null:</td>        <td>-326.61</td> \n",
       "</tr>\n",
       "<tr>\n",
       "     <td>Df Residuals:</td>           <td>595</td>         <td>LLR p-value:</td>    <td>5.4287e-14</td>\n",
       "</tr>\n",
       "<tr>\n",
       "      <td>Converged:</td>           <td>1.0000</td>           <td>Scale:</td>         <td>1.0000</td>  \n",
       "</tr>\n",
       "<tr>\n",
       "    <td>No. Iterations:</td>        <td>6.0000</td>              <td></td>               <td></td>     \n",
       "</tr>\n",
       "</table>\n",
       "<table class=\"simpletable\">\n",
       "<tr>\n",
       "    <td></td>     <th>Coef.</th>  <th>Std.Err.</th>    <th>z</th>     <th>P>|z|</th> <th>[0.025</th>  <th>0.975]</th> \n",
       "</tr>\n",
       "<tr>\n",
       "  <th>const</th> <td>-0.2543</td>  <td>0.1941</td>  <td>-1.3103</td> <td>0.1901</td> <td>-0.6348</td> <td>0.1261</td> \n",
       "</tr>\n",
       "<tr>\n",
       "  <th>F1</th>    <td>-0.1236</td>  <td>0.0185</td>  <td>-6.6842</td> <td>0.0000</td> <td>-0.1598</td> <td>-0.0874</td>\n",
       "</tr>\n",
       "<tr>\n",
       "  <th>F4</th>    <td>0.0007</td>   <td>0.0040</td>  <td>0.1826</td>  <td>0.8551</td> <td>-0.0071</td> <td>0.0086</td> \n",
       "</tr>\n",
       "</table>"
      ],
      "text/plain": [
       "<class 'statsmodels.iolib.summary2.Summary'>\n",
       "\"\"\"\n",
       "                         Results: Logit\n",
       "=================================================================\n",
       "Model:              Logit            Pseudo R-squared: 0.094     \n",
       "Dependent Variable: class            AIC:              598.1347  \n",
       "Date:               2023-09-27 16:21 BIC:              611.3154  \n",
       "No. Observations:   598              Log-Likelihood:   -296.07   \n",
       "Df Model:           2                LL-Null:          -326.61   \n",
       "Df Residuals:       595              LLR p-value:      5.4287e-14\n",
       "Converged:          1.0000           Scale:            1.0000    \n",
       "No. Iterations:     6.0000                                       \n",
       "-------------------------------------------------------------------\n",
       "           Coef.    Std.Err.      z      P>|z|     [0.025    0.975]\n",
       "-------------------------------------------------------------------\n",
       "const     -0.2543     0.1941   -1.3103   0.1901   -0.6348    0.1261\n",
       "F1        -0.1236     0.0185   -6.6842   0.0000   -0.1598   -0.0874\n",
       "F4         0.0007     0.0040    0.1826   0.8551   -0.0071    0.0086\n",
       "=================================================================\n",
       "\n",
       "\"\"\""
      ]
     },
     "execution_count": 76,
     "metadata": {},
     "output_type": "execute_result"
    }
   ],
   "source": [
    "# Q.2 make the model using significant features only\n",
    "significant_features = logit_model.pvalues[logit_model.pvalues < 0.05].index\n",
    "train_X = train_X[significant_features]\n",
    "test_X = test_X[significant_features]\n",
    "logit_model_new = sm.Logit(train_Y, train_X).fit()\n",
    "logit_model_new.summary2()"
   ]
  },
  {
   "cell_type": "code",
   "execution_count": 71,
   "id": "e96109d8",
   "metadata": {},
   "outputs": [
    {
     "name": "stdout",
     "output_type": "stream",
     "text": [
      "Features affecting positively are :  Index(['F4'], dtype='object')\n",
      "Features affecting negatively are :  Index(['const', 'F1'], dtype='object')\n"
     ]
    }
   ],
   "source": [
    "#3. Find which features affect the probability positively and negatively\n",
    "positive_features = logit_model_new.params[logit_model_new.params > 0].index\n",
    "negative_features = logit_model_new.params[logit_model_new.params < 0].index\n",
    "\n",
    "print(\"Features affecting positively are : \", positive_features)\n",
    "print(\"Features affecting negatively are : \", negative_features)"
   ]
  },
  {
   "cell_type": "code",
   "execution_count": 77,
   "id": "61db33a1",
   "metadata": {},
   "outputs": [
    {
     "name": "stdout",
     "output_type": "stream",
     "text": [
      "Youden index :  [0.220760583592442, 0.2384596986366898, 0.2384596986366898, 0.2272183688112892, 0.2272183688112892, 0.2272183688112892, 0.2537670413776607, 0.3240851470939967, 0.34130590767758906, 0.35015546519971297, 0.35015546519971297, 0.3496771107390577, 0.3496771107390577, 0.3496771107390577, 0.3585266682611816, 0.3585266682611816, 0.34919875627840224, 0.34919875627840224, 0.32217172925137527, 0.32217172925137527, 0.32217172925137527, 0.32217172925137527, 0.32217172925137527, 0.22004305190145912, 0.1655106433867497, 0.1655106433867497, 0.1473331738818464, 0.15618273140397032, 0.01961253288686926, 0.018655823965558316, -0.008371203061468657, -0.008371203061468657, 0.0, 0.0, 0.0, 0.0, 0.0, 0.0, 0.0, 0.0, 0.0, 0.0, 0.0, 0.0, 0.0, 0.0, 0.0, 0.0, 0.0, 0.0, 0.0, 0.0, 0.0, 0.0, 0.0, 0.0, 0.0, 0.0, 0.0, 0.0, 0.0, 0.0, 0.0, 0.0, 0.0, 0.0, 0.0, 0.0, 0.0, 0.0, 0.0, 0.0, 0.0, 0.0, 0.0, 0.0, 0.0, 0.0, 0.0, 0.0, 0.0]\n",
      "\n",
      "\n",
      "optimal cutoff value is :  0.23999999999999994\n",
      "max youden value at optimal cutoff 0.3585266682611816\n"
     ]
    }
   ],
   "source": [
    "# Youden's index for all possible cut-off probabilites\n",
    "from sklearn import metrics\n",
    "cutoff = np.arange(0.1, 0.91, 0.01)\n",
    "youdens_index = []\n",
    "cutoff_index = []\n",
    "for i in cutoff:\n",
    "    predicted_values = logit_model_new.predict(test_X)\n",
    "    predicted_values = (predicted_values > i).astype(int)\n",
    "    confusion_matrix = metrics.confusion_matrix(test_Y, predicted_values)\n",
    "    sensitivity = confusion_matrix[1][1]/(confusion_matrix[1][1] + confusion_matrix[1][0])\n",
    "    specificity = confusion_matrix[0][0]/(confusion_matrix[0][0] + confusion_matrix[0][1])\n",
    "    youden_index = sensitivity + specificity - 1\n",
    "    youdens_index.append(youden_index)\n",
    "    cutoff_index.append(i)\n",
    "\n",
    "print(\"Youden index : \", youdens_index)\n",
    "max_youden = -40\n",
    "optimal_cutoff = -1\n",
    "for i in range(0, len(youdens_index)):\n",
    "    if(youdens_index[i] > max_youden) :\n",
    "        max_youden = youdens_index[i]\n",
    "        optimal_cutoff = cutoff_index[i]\n",
    "\n",
    "print(\"\\n\\noptimal cutoff value is : \", optimal_cutoff)\n",
    "print(\"max youden value at optimal cutoff\", max_youden)"
   ]
  },
  {
   "cell_type": "code",
   "execution_count": 78,
   "id": "685865a3",
   "metadata": {},
   "outputs": [
    {
     "data": {
      "image/png": "[encoded data removed]",
      "text/plain": [
       "<Figure size 640x480 with 2 Axes>"
      ]
     },
     "metadata": {},
     "output_type": "display_data"
    },
    {
     "name": "stdout",
     "output_type": "stream",
     "text": [
      "\n",
      "\n",
      "Precision of model is :  0.8831168831168831\n",
      "\n",
      "Recall of model is :  0.6017699115044248\n"
     ]
    }
   ],
   "source": [
    "predicted_values = logit_model_new.predict(test_X)\n",
    "predicted_values = (predicted_values > optimal_cutoff).astype(int)\n",
    "confusion_matrix = metrics.confusion_matrix(test_Y, predicted_values)\n",
    "sn.heatmap(confusion_matrix, annot=True, fmt='.2f', xticklabels=[\"Selected\", \"Not Selected\"], yticklabels=[\"Selected\", \"Not Selected\"])\n",
    "plt.ylabel('True Label')\n",
    "plt.xlabel('Predicted Label')\n",
    "plt.show()\n",
    "\n",
    "precision = confusion_matrix[0][0]/(confusion_matrix[0][0] + confusion_matrix[1][0])\n",
    "recall = confusion_matrix[0][0]/(confusion_matrix[0][0] + confusion_matrix[0][1])\n",
    "\n",
    "print(\"\\n\\nPrecision of model is : \", precision)\n",
    "print(\"\\nRecall of model is : \", recall)"
   ]
  },
  {
   "cell_type": "code",
   "execution_count": 79,
   "id": "8a22c543",
   "metadata": {},
   "outputs": [
    {
     "name": "stdout",
     "output_type": "stream",
     "text": [
      "\n",
      "Optimal cutoff is :  0.4199999999999998\n"
     ]
    }
   ],
   "source": [
    "# Predicting the cutoff by assuming cost of predicting job as no job 5 times more than no job as job\n",
    "cost_based_values = []\n",
    "cost_based_cutoff_indices = []\n",
    "for i in cutoff:\n",
    "    predicted_values = logit_model_new.predict(test_X)\n",
    "    predicted_values = (predicted_values > i).astype(int)\n",
    "    confusion_matrix = metrics.confusion_matrix(test_Y, predicted_values)\n",
    "    cost = 5*confusion_matrix[0][1] + confusion_matrix[1][0]\n",
    "    cost_based_values.append(cost)\n",
    "    cost_based_cutoff_indices.append(i)\n",
    "    \n",
    "optimal_cutoff_cost = -1\n",
    "min_cost = 1e9\n",
    "\n",
    "for i in range(0, len(cost_based_cutoff_indices)):\n",
    "    if(cost_based_values[i] < min_cost) :\n",
    "        min_cost = cost_based_values[i]\n",
    "        optimal_cutoff_cost = cost_based_cutoff_indices[i]\n",
    "\n",
    "print(\"\\nOptimal cutoff is : \", optimal_cutoff_cost)"
   ]
  },
  {
   "cell_type": "code",
   "execution_count": 80,
   "id": "1255f409",
   "metadata": {},
   "outputs": [
    {
     "data": {
      "image/png": "[encoded data removed]",
      "text/plain": [
       "<Figure size 640x480 with 2 Axes>"
      ]
     },
     "metadata": {},
     "output_type": "display_data"
    },
    {
     "name": "stdout",
     "output_type": "stream",
     "text": [
      "\n",
      "\n",
      "Precision of model is :  0.7533333333333333\n",
      "\n",
      "Recall of model is :  1.0\n"
     ]
    }
   ],
   "source": [
    "# Finding the precision and recall for cost based method\n",
    "predicted_values = logit_model_new.predict(test_X)\n",
    "predicted_values = (predicted_values > optimal_cutoff_cost).astype(int)\n",
    "confusion_matrix = metrics.confusion_matrix(test_Y, predicted_values)\n",
    "sn.heatmap(confusion_matrix, annot=True, fmt='.2f', xticklabels=[\"Selected\", \"Not Selected\"], yticklabels=[\"Selected\", \"Not Selected\"])\n",
    "plt.ylabel('True Label')\n",
    "plt.xlabel('Predicted Label')\n",
    "plt.show()\n",
    "\n",
    "precision = confusion_matrix[0][0]/(confusion_matrix[0][0] + confusion_matrix[1][0])\n",
    "recall = confusion_matrix[0][0]/(confusion_matrix[0][0] + confusion_matrix[0][1])\n",
    "\n",
    "print(\"\\n\\nPrecision of model is : \", precision)\n",
    "print(\"\\nRecall of model is : \", recall)"
   ]
  }
 ],
 "metadata": {
  "kernelspec": {
   "display_name": "Python 3 (ipykernel)",
   "language": "python",
   "name": "python3"
  },
  "language_info": {
   "codemirror_mode": {
    "name": "ipython",
    "version": 3
   },
   "file_extension": ".py",
   "mimetype": "text/x-python",
   "name": "python",
   "nbconvert_exporter": "python",
   "pygments_lexer": "ipython3",
   "version": "3.11.3"
  }
 },
 "nbformat": 4,
 "nbformat_minor": 5
}
