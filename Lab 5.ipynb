{
 "cells": [
  {
   "cell_type": "code",
   "execution_count": 1,
   "id": "fd90d028",
   "metadata": {},
   "outputs": [
    {
     "name": "stdout",
     "output_type": "stream",
     "text": [
      "[[ -6.8 -12.4]\n",
      " [  7.2  16.6]\n",
      " [  9.2  19.6]\n",
      " [ -5.8 -14.4]\n",
      " [ -3.8  -9.4]]\n"
     ]
    }
   ],
   "source": [
    "import numpy as np\n",
    "import pandas as pd\n",
    "\n",
    "df=np.array([(4,10),(18,39),(20,42),(5,8),(7,13)])"
   ]
  },
  {
   "cell_type": "code",
   "execution_count": 32,
   "id": "7e9e9a62",
   "metadata": {},
   "outputs": [],
   "source": [
    "def PCA(X , num_components):\n",
    "\n",
    "    X_meaned = X - np.mean(X , axis = 0)\n",
    "     \n",
    "    cov_mat = np.cov(X_meaned , rowvar = False)\n",
    "     \n",
    "    eigen_values , eigen_vectors = np.linalg.eigh(cov_mat)\n",
    "    print(f'Eigenvalues:\\n {eigen_values}\\n')\n",
    "    print(f'EigenVectors:\\n {eigen_vectors}\\n')\n",
    "     \n",
    "    eigenvector_subset = eigen_vectors[:,0:num_components]\n",
    "     \n",
    "    X_reduced = np.dot(eigenvector_subset.transpose() , X_meaned.transpose() ).transpose()\n",
    "     \n",
    "    return X_reduced"
   ]
  },
  {
   "cell_type": "code",
   "execution_count": 33,
   "id": "bb870941",
   "metadata": {},
   "outputs": [
    {
     "name": "stdout",
     "output_type": "stream",
     "text": [
      "Eigenvalues:\n",
      " [  0.48424476 334.51575524]\n",
      "\n",
      "EigenVectors:\n",
      " [[-0.91033593  0.41387014]\n",
      " [ 0.41387014  0.91033593]]\n",
      "\n",
      "[[  1.05829452 -14.1024825 ]\n",
      " [  0.31582571  18.09144146]\n",
      " [ -0.26323571  21.65018954]\n",
      " [ -0.67978169 -15.50928421]\n",
      " [ -0.43110283 -10.12986428]]\n"
     ]
    }
   ],
   "source": [
    "print(PCA(df,2))"
   ]
  },
  {
   "cell_type": "code",
   "execution_count": 38,
   "id": "1d88eee6",
   "metadata": {},
   "outputs": [
    {
     "ename": "TypeError",
     "evalue": "PCA() takes 2 positional arguments but 3 were given",
     "output_type": "error",
     "traceback": [
      "\u001b[0;31m---------------------------------------------------------------------------\u001b[0m",
      "\u001b[0;31mTypeError\u001b[0m                                 Traceback (most recent call last)",
      "Cell \u001b[0;32mIn[38], line 8\u001b[0m\n\u001b[1;32m      6\u001b[0m cust_array\u001b[38;5;241m=\u001b[39mnew_cust_df\u001b[38;5;241m.\u001b[39mto_numpy()\n\u001b[1;32m      7\u001b[0m eigenVectors\u001b[38;5;241m=\u001b[39m[]\n\u001b[0;32m----> 8\u001b[0m output_array\u001b[38;5;241m=\u001b[39mPCA(cust_array,\u001b[38;5;241m4\u001b[39m,eigenVectors)\n\u001b[1;32m     10\u001b[0m col_names\u001b[38;5;241m=\u001b[39m[\u001b[38;5;124m'\u001b[39m\u001b[38;5;124mEc-products\u001b[39m\u001b[38;5;124m'\u001b[39m,\u001b[38;5;124m'\u001b[39m\u001b[38;5;124mStationary\u001b[39m\u001b[38;5;124m'\u001b[39m,\u001b[38;5;124m'\u001b[39m\u001b[38;5;124mfashion_prod\u001b[39m\u001b[38;5;124m'\u001b[39m,\u001b[38;5;124m'\u001b[39m\u001b[38;5;124mother_shopping\u001b[39m\u001b[38;5;124m'\u001b[39m]\n\u001b[1;32m     11\u001b[0m df\u001b[38;5;241m=\u001b[39mpd\u001b[38;5;241m.\u001b[39mDataFrame(output_array,columns\u001b[38;5;241m=\u001b[39mcol_names)\n",
      "\u001b[0;31mTypeError\u001b[0m: PCA() takes 2 positional arguments but 3 were given"
     ]
    }
   ],
   "source": [
    "cust_df=pd.read_csv(\"cust2.csv\")\n",
    "selected_cols=cust_df[['Ec-products','Stationary','fashion_prod','other_shopping']]\n",
    "selected_cols.to_csv('new_cust2.csv',index=False)\n",
    "new_cust_df=pd.read_csv('new_cust2.csv')\n",
    "\n",
    "cust_array=new_cust_df.to_numpy()\n",
    "eigenVectors=[]\n",
    "output_array=PCA(cust_array,4)\n",
    "\n",
    "col_names=['Ec-products','Stationary','fashion_prod','other_shopping']\n",
    "df=pd.DataFrame(output_array,columns=col_names)\n",
    "csv_file_path='cust2_output.csv'\n",
    "df.to_csv(csv_file_path,index=False)"
   ]
  },
  {
   "cell_type": "code",
   "execution_count": null,
   "id": "fef7d02e",
   "metadata": {},
   "outputs": [],
   "source": []
  }
 ],
 "metadata": {
  "kernelspec": {
   "display_name": "Python 3 (ipykernel)",
   "language": "python",
   "name": "python3"
  },
  "language_info": {
   "codemirror_mode": {
    "name": "ipython",
    "version": 3
   },
   "file_extension": ".py",
   "mimetype": "text/x-python",
   "name": "python",
   "nbconvert_exporter": "python",
   "pygments_lexer": "ipython3",
   "version": "3.11.3"
  }
 },
 "nbformat": 4,
 "nbformat_minor": 5
}
